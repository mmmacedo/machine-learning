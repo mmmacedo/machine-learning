{
  "nbformat": 4,
  "nbformat_minor": 0,
  "metadata": {
    "colab": {
      "provenance": [],
      "collapsed_sections": [],
      "authorship_tag": "ABX9TyNRFoLfNTPRkxotOKqwVwY+",
      "include_colab_link": true
    },
    "kernelspec": {
      "name": "python3",
      "display_name": "Python 3"
    },
    "language_info": {
      "name": "python"
    }
  },
  "cells": [
    {
      "cell_type": "markdown",
      "metadata": {
        "id": "view-in-github",
        "colab_type": "text"
      },
      "source": [
        "<a href=\"https://colab.research.google.com/github/mmmacedo/machine-learning/blob/main/Libras.ipynb\" target=\"_parent\"><img src=\"https://colab.research.google.com/assets/colab-badge.svg\" alt=\"Open In Colab\"/></a>"
      ]
    },
    {
      "cell_type": "markdown",
      "source": [
        "interpretador de Alfabeto em libras"
      ],
      "metadata": {
        "id": "o3YBDtI_MrP6"
      }
    },
    {
      "cell_type": "markdown",
      "source": [
        "Imports"
      ],
      "metadata": {
        "id": "-7CSfW26Mxyg"
      }
    },
    {
      "cell_type": "code",
      "execution_count": 1,
      "metadata": {
        "id": "ie-QfvX-MotO"
      },
      "outputs": [],
      "source": [
        "from keras.utils import to_categorical, plot_model \n",
        "from keras.optimizers import SGD, Adam\n",
        "from keras import backend\n",
        "from keras.preprocessing.image import ImageDataGenerator\n",
        "from keras.callbacks import EarlyStopping\n",
        "from keras.models import Sequential\n",
        "from keras.layers.core import Dense, Dropout, Activation, Flatten\n",
        "from keras.layers.convolutional import Conv2D, MaxPooling2D\n",
        "from keras.layers import LeakyReLU\n",
        "\n",
        "import tensorflow as tf\n",
        "from sklearn.metrics import classification_report\n",
        "import matplotlib.pyplot as plt\n",
        "import numpy as np\n",
        "import datetime\n",
        "import h5py\n",
        "import time\n",
        "\n",
        "import os"
      ]
    },
    {
      "cell_type": "markdown",
      "source": [
        "Constantes"
      ],
      "metadata": {
        "id": "Nptrvr0xNDmh"
      }
    },
    {
      "cell_type": "code",
      "source": [
        "EPOCHS = 30\n",
        "CLASS = 21"
      ],
      "metadata": {
        "id": "kjVeFv8wNF6Z"
      },
      "execution_count": 2,
      "outputs": []
    },
    {
      "cell_type": "markdown",
      "source": [
        "Methodos auxiliares"
      ],
      "metadata": {
        "id": "YCarZfhLNID4"
      }
    },
    {
      "cell_type": "code",
      "source": [
        "def getDateStr():\n",
        "  return str('{date:%Y%m%d_%H%M}').format(date=datetime.datetime.now())\n",
        "\n",
        "\n",
        "def getTimeMin(start, end):\n",
        "  return (end - start)/60\n",
        "\n",
        "\n",
        "def build(width, height, channels, classes):\n",
        "  \"\"\"\n",
        "  :param width: Largura em pixel da imagem.\n",
        "  :param height: Altura em pixel da imagem.\n",
        "  :param channels: Quantidade de canais da imagem.\n",
        "  :param classes: Quantidade de classes para o output.\n",
        "  \"\"\"\n",
        "  inputShape = (height, width, channels)\n",
        "  model = Sequential()\n",
        "  model.add(Conv2D(filters=32, kernel_size=(3, 3), padding=\"same\", input_shape=inputShape))\n",
        "  model.add(LeakyReLU(alpha=0.1))\n",
        "  model.add(MaxPooling2D((2, 2)))\n",
        "\n",
        "  model.add(Conv2D(filters=32, kernel_size=(3, 3)))\n",
        "  model.add(LeakyReLU(alpha=0.1))\n",
        "  model.add(MaxPooling2D((2, 2)))\n",
        "\n",
        "  model.add(Conv2D(filters=64, kernel_size=(3, 3)))\n",
        "  model.add(LeakyReLU(alpha=0.1))\n",
        "  model.add(MaxPooling2D((2, 2)))\n",
        "  \n",
        "  model.add(Flatten())\n",
        "  model.add(Dense(256, activation=\"relu\"))\n",
        "  model.add(Dropout(0.5))\n",
        "  model.add(Dense(classes, activation=\"softmax\"))\n",
        "\n",
        "  return model\n"
      ],
      "metadata": {
        "id": "z-uPIG75NKD4"
      },
      "execution_count": 3,
      "outputs": []
    },
    {
      "cell_type": "markdown",
      "source": [
        "Download Dataset"
      ],
      "metadata": {
        "id": "Yo0MYBeyNhtx"
      }
    },
    {
      "cell_type": "code",
      "source": [
        "print('Download dataset')\n",
        "train_datagen = ImageDataGenerator( #gera novas imagens com base nas imagens de modelo\n",
        "        rescale=1./255, #normalizar cores\n",
        "        shear_range=0.2, #rotacao com translacao imagem\n",
        "        zoom_range=0.2, #zoom\n",
        "        horizontal_flip=True, #espelhamento\n",
        "        validation_split=0.25) #valida treinamento durante o mesmo\n",
        "\n",
        "test_datagen = ImageDataGenerator(rescale=1./255, validation_split=0.25)\n",
        "\n",
        "_URL = 'https://drive.google.com/u/0/uc?id=1FG4qY25JD3SZq039AKr9zNreJS_gKc5I&export=download&confirm=t&uuid=e8e51c25-b974-44b7-b6c5-41431c685469&at=ALAFpqyB8WTeWslFKyZrUz-19u6p:1666460990795'\n",
        "zip_dir = tf.keras.utils.get_file('libras_filtered.zip', origin=_URL, extract=True)\n",
        "\n",
        "zip_dir_base = os.path.dirname(zip_dir)\n",
        "!find $zip_dir_base -type d -print"
      ],
      "metadata": {
        "colab": {
          "base_uri": "https://localhost:8080/"
        },
        "id": "lgC53jBrNjlB",
        "outputId": "09401cab-3142-4a98-a86d-8d9167f564d7"
      },
      "execution_count": 4,
      "outputs": [
        {
          "output_type": "stream",
          "name": "stdout",
          "text": [
            "Download dataset\n",
            "Downloading data from https://drive.google.com/u/0/uc?id=1FG4qY25JD3SZq039AKr9zNreJS_gKc5I&export=download&confirm=t&uuid=e8e51c25-b974-44b7-b6c5-41431c685469&at=ALAFpqyB8WTeWslFKyZrUz-19u6p:1666460990795\n",
            "303690709/303690709 [==============================] - 4s 0us/step\n",
            "/root/.keras/datasets\n",
            "/root/.keras/datasets/libras_filtered\n",
            "/root/.keras/datasets/libras_filtered/train\n",
            "/root/.keras/datasets/libras_filtered/train/M\n",
            "/root/.keras/datasets/libras_filtered/train/V\n",
            "/root/.keras/datasets/libras_filtered/train/B\n",
            "/root/.keras/datasets/libras_filtered/train/O\n",
            "/root/.keras/datasets/libras_filtered/train/F\n",
            "/root/.keras/datasets/libras_filtered/train/E\n",
            "/root/.keras/datasets/libras_filtered/train/R\n",
            "/root/.keras/datasets/libras_filtered/train/U\n",
            "/root/.keras/datasets/libras_filtered/train/N\n",
            "/root/.keras/datasets/libras_filtered/train/P\n",
            "/root/.keras/datasets/libras_filtered/train/T\n",
            "/root/.keras/datasets/libras_filtered/train/Q\n",
            "/root/.keras/datasets/libras_filtered/train/I\n",
            "/root/.keras/datasets/libras_filtered/train/G\n",
            "/root/.keras/datasets/libras_filtered/train/D\n",
            "/root/.keras/datasets/libras_filtered/train/A\n",
            "/root/.keras/datasets/libras_filtered/train/W\n",
            "/root/.keras/datasets/libras_filtered/train/S\n",
            "/root/.keras/datasets/libras_filtered/train/C\n",
            "/root/.keras/datasets/libras_filtered/train/Y\n",
            "/root/.keras/datasets/libras_filtered/train/L\n",
            "/root/.keras/datasets/libras_filtered/validation\n",
            "/root/.keras/datasets/libras_filtered/validation/M\n",
            "/root/.keras/datasets/libras_filtered/validation/V\n",
            "/root/.keras/datasets/libras_filtered/validation/B\n",
            "/root/.keras/datasets/libras_filtered/validation/O\n",
            "/root/.keras/datasets/libras_filtered/validation/F\n",
            "/root/.keras/datasets/libras_filtered/validation/E\n",
            "/root/.keras/datasets/libras_filtered/validation/R\n",
            "/root/.keras/datasets/libras_filtered/validation/U\n",
            "/root/.keras/datasets/libras_filtered/validation/N\n",
            "/root/.keras/datasets/libras_filtered/validation/P\n",
            "/root/.keras/datasets/libras_filtered/validation/T\n",
            "/root/.keras/datasets/libras_filtered/validation/Q\n",
            "/root/.keras/datasets/libras_filtered/validation/I\n",
            "/root/.keras/datasets/libras_filtered/validation/G\n",
            "/root/.keras/datasets/libras_filtered/validation/D\n",
            "/root/.keras/datasets/libras_filtered/validation/A\n",
            "/root/.keras/datasets/libras_filtered/validation/W\n",
            "/root/.keras/datasets/libras_filtered/validation/S\n",
            "/root/.keras/datasets/libras_filtered/validation/C\n",
            "/root/.keras/datasets/libras_filtered/validation/Y\n",
            "/root/.keras/datasets/libras_filtered/validation/L\n"
          ]
        }
      ]
    },
    {
      "cell_type": "markdown",
      "source": [
        "Cria os caminhos para as bases"
      ],
      "metadata": {
        "id": "YJk4rRJsOhpB"
      }
    },
    {
      "cell_type": "code",
      "source": [
        "base_dir = os.path.join(os.path.dirname(zip_dir), 'libras_filtered')\n",
        "train_dir = os.path.join(base_dir, 'train')\n",
        "validation_dir = os.path.join(base_dir, 'validation')"
      ],
      "metadata": {
        "id": "dL0J7rf-OkGX"
      },
      "execution_count": 5,
      "outputs": []
    },
    {
      "cell_type": "markdown",
      "source": [
        "Configura o treinamento"
      ],
      "metadata": {
        "id": "3eFQENuUOk1Q"
      }
    },
    {
      "cell_type": "code",
      "source": [
        "train_datagen = ImageDataGenerator(\n",
        "        rescale=1./255,\n",
        "        shear_range=0.2,\n",
        "        zoom_range=0.2,\n",
        "        horizontal_flip=True, \n",
        "        validation_split=0.25)\n",
        "\n",
        "test_datagen = ImageDataGenerator(rescale=1./255, validation_split=0.25)\n",
        "\n",
        "training_set = train_datagen.flow_from_directory(\n",
        "        train_dir,\n",
        "        target_size=(64, 64),\n",
        "        color_mode = 'rgb',\n",
        "        batch_size=32,\n",
        "        shuffle=False,\n",
        "        class_mode='categorical')\n",
        "\n",
        "test_set = test_datagen.flow_from_directory(\n",
        "        validation_dir,\n",
        "        target_size=(64, 64),\n",
        "        color_mode = 'rgb',\n",
        "        batch_size=32,\n",
        "        shuffle=False,\n",
        "        class_mode='categorical')\n",
        "\n",
        "early_stopping_monitor = EarlyStopping(monitor='val_loss', mode='min', verbose=1, patience=15)\n",
        "\n",
        "model = build(64, 64, 3, CLASS)\n",
        "model.compile(optimizer=SGD(0.01), loss=\"categorical_crossentropy\", metrics=[\"accuracy\"])"
      ],
      "metadata": {
        "colab": {
          "base_uri": "https://localhost:8080/"
        },
        "id": "wq8VYll0OmNY",
        "outputId": "96552327-6409-49d2-acbc-cbc429579a9b"
      },
      "execution_count": 6,
      "outputs": [
        {
          "output_type": "stream",
          "name": "stdout",
          "text": [
            "Found 34714 images belonging to 21 classes.\n",
            "Found 11548 images belonging to 21 classes.\n"
          ]
        }
      ]
    },
    {
      "cell_type": "markdown",
      "source": [
        "Iniciar treinamento"
      ],
      "metadata": {
        "id": "Hlh4MvZeRGnI"
      }
    },
    {
      "cell_type": "code",
      "source": [
        "start = time.time()\n",
        "\n",
        "classifier = model.fit_generator(\n",
        "        training_set,\n",
        "        steps_per_epoch=(training_set.n // training_set.batch_size),\n",
        "        epochs=EPOCHS,\n",
        "        validation_data = test_set,\n",
        "        validation_steps= (test_set.n // test_set.batch_size),\n",
        "        shuffle = False,\n",
        "        verbose=2,\n",
        "        callbacks = [early_stopping_monitor]\n",
        "      )\n",
        "\n",
        "EPOCHS = len(classifier.history[\"loss\"])\n",
        "end = time.time()"
      ],
      "metadata": {
        "colab": {
          "base_uri": "https://localhost:8080/"
        },
        "id": "TgsEONhjRI_m",
        "outputId": "7dbe1de2-c7ff-4238-8a0f-dcd0dab87100"
      },
      "execution_count": null,
      "outputs": [
        {
          "output_type": "stream",
          "name": "stderr",
          "text": [
            "/usr/local/lib/python3.7/dist-packages/ipykernel_launcher.py:11: UserWarning: `Model.fit_generator` is deprecated and will be removed in a future version. Please use `Model.fit`, which supports generators.\n",
            "  # This is added back by InteractiveShellApp.init_path()\n"
          ]
        },
        {
          "output_type": "stream",
          "name": "stdout",
          "text": [
            "Epoch 1/30\n"
          ]
        }
      ]
    },
    {
      "cell_type": "markdown",
      "source": [
        "Salvando o modelo criado"
      ],
      "metadata": {
        "id": "uRe4ai5twOWe"
      }
    },
    {
      "cell_type": "code",
      "source": [
        "model.save(os.path.join(os.path.dirname(zip_dir), 'model')+'/model.h5')\n",
        "!find /root/.keras/datasets/model -type f -print"
      ],
      "metadata": {
        "id": "c2zKHM83wRMN"
      },
      "execution_count": null,
      "outputs": []
    }
  ]
}